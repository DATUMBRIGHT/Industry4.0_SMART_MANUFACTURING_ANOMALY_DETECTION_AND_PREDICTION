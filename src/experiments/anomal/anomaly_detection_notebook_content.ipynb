{
 "cells": [
  {
   "cell_type": "markdown",
   "id": "5641b8cf",
   "metadata": {},
   "source": [
    "# Smart Manufacturing Anomaly Detection"
   ]
  },
  {
   "cell_type": "markdown",
   "id": "518f56c3",
   "metadata": {},
   "source": [
    "This notebook performs advanced analytics for anomaly detection on smart manufacturing data.\n",
    "We will utilize two powerful time series models: PatchTST and a simplified Temporal Fusion Transformer (TFT).\n",
    "The analysis will include data loading, preprocessing, model implementation, anomaly detection, and interpretation of results."
   ]
  },
  {
   "cell_type": "markdown",
   "id": "ad4e10a1",
   "metadata": {},
   "source": [
    "## Setup and Library Installation"
   ]
  },
  {
   "cell_type": "markdown",
   "id": "4766fac1",
   "metadata": {},
   "source": [
    "First, ensure you have the necessary libraries installed. You can install them using pip:\n",
    "```bash\n",
    "pip install polars numpy scikit-learn torch\n",
    "```"
   ]
  },
  {
   "cell_type": "markdown",
   "id": "616d7b51",
   "metadata": {},
   "source": [
    "## Data Loading and Initial Exploration (using Polars)"
   ]
  },
  {
   "cell_type": "markdown",
   "id": "0cc675e6",
   "metadata": {},
   "source": [
    "We will load the `smart_manufacturing_data.csv` dataset and perform initial data exploration and preprocessing using Polars for efficient data handling."
   ]
  },
  {
   "cell_type": "code",
   "execution_count": null,
   "id": "70ee4951",
   "metadata": {},
   "outputs": [],
   "source": [
    "import polars as pl\n",
    "import numpy as np\n",
    "from sklearn.preprocessing import StandardScaler\n",
    "import torch\n",
    "import torch.nn as nn\n",
    "from torch.utils.data import DataLoader, TensorDataset\n",
    "import matplotlib.pyplot as plt\n",
    "import seaborn as sns"
   ]
  },
  {
   "cell_type": "code",
   "execution_count": null,
   "id": "a99ed4c2",
   "metadata": {},
   "outputs": [],
   "source": [
    "# Load the dataset\n",
    "try:\n",
    "    df = pl.read_csv(\"/home/ubuntu/upload/smart_manufacturing_data.csv\")\n",
    "    print(\"Dataset loaded successfully. First 5 rows:\")\n",
    "    print(df.head())\n",
    "    print(\"\\nDataset Info:\")\n",
    "    print(df.schema)\n",
    "    print(\"\\nDescriptive Statistics:\")\n",
    "    print(df.describe())\n",
    "\n",
    "    # Check for missing values\n",
    "    print(\"\\nMissing Values:\")\n",
    "    for col in df.columns:\n",
    "        print(f\"{col}: {df[col].is_null().sum()}\")\n",
    "\n",
    "    # Convert \\'timestamp\\' column to datetime if it exists\n",
    "    if \"timestamp\" in df.columns:\n",
    "        df = df.with_columns(pl.col(\"timestamp\").str.strptime(pl.Datetime, format=\"%Y-%m-%d %H:%M:%S\"))\n",
    "        print(\"\\nTimestamp column converted to datetime.\")\n",
    "        print(df.head())\n",
    "\n",
    "    # Save the preprocessed data (optional, for later use)\n",
    "    df.write_csv(\"/home/ubuntu/preprocessed_smart_manufacturing_data.csv\")\n",
    "    print(\"\\nPreprocessed data saved to preprocessed_smart_manufacturing_data.csv\")"
   ]
  },
  {
   "cell_type": "code",
   "execution_count": null,
   "id": "1885d51b",
   "metadata": {
    "lines_to_next_cell": 2
   },
   "outputs": [],
   "source": [
    "except FileNotFoundError:\n",
    "    print(\"Error: smart_manufacturing_data.csv not found. Please ensure the file is in the correct path.\")\n",
    "except Exception as e:\n",
    "    print(f\"An error occurred during data loading: {e}\")"
   ]
  },
  {
   "cell_type": "markdown",
   "id": "1e717b56",
   "metadata": {},
   "source": [
    "--- Section 2: PatchTST for Anomaly Detection ---"
   ]
  },
  {
   "cell_type": "markdown",
   "id": "26003f31",
   "metadata": {},
   "source": [
    "# PatchTST Model for Anomaly Detection"
   ]
  },
  {
   "cell_type": "markdown",
   "id": "632eb470",
   "metadata": {},
   "source": [
    "PatchTST is a powerful transformer-based model for time series analysis. For anomaly detection, we typically train the model on normal data to learn its patterns. Anomalies are then identified as deviations from these learned patterns, often by measuring reconstruction error."
   ]
  },
  {
   "cell_type": "markdown",
   "id": "0771e189",
   "metadata": {},
   "source": [
    "## Model Configuration and Data Preparation"
   ]
  },
  {
   "cell_type": "markdown",
   "id": "cd3ec1c4",
   "metadata": {},
   "source": [
    "Define model parameters and prepare the data for PatchTST. We will use \\'temperature\\' as the primary feature for this example, but the approach can be extended to multivariate data."
   ]
  },
  {
   "cell_type": "code",
   "execution_count": null,
   "id": "dd02323b",
   "metadata": {
    "lines_to_next_cell": 1
   },
   "outputs": [],
   "source": [
    "SEQUENCE_LENGTH = 96  # Length of input sequences for the model\n",
    "PREDICTION_LENGTH = 24 # Not directly used for AD, but common in forecasting models\n",
    "BATCH_SIZE = 32\n",
    "EPOCHS = 10\n",
    "LEARNING_RATE = 0.001"
   ]
  },
  {
   "cell_type": "markdown",
   "id": "fa9a601c",
   "metadata": {},
   "source": [
    "--- PatchTST Model Definition (Simplified for Anomaly Detection) ---\n",
    "This is a simplified representation. A full PatchTST implementation is complex.\n",
    "For actual anomaly detection, you\\'d typically use the reconstruction error or\n",
    "prediction error from a forecasting task."
   ]
  },
  {
   "cell_type": "code",
   "execution_count": null,
   "id": "9860f548",
   "metadata": {
    "lines_to_next_cell": 1
   },
   "outputs": [],
   "source": [
    "class PatchTST(nn.Module):\n",
    "    def __init__(self, input_dim, hidden_dim, num_heads, num_layers, patch_len, stride):\n",
    "        super().__init__()\n",
    "        self.patch_len = patch_len\n",
    "        self.stride = stride\n",
    "        self.input_dim = input_dim\n",
    "\n",
    "        self.patch_embedding = nn.Linear(patch_len, hidden_dim)\n",
    "\n",
    "        encoder_layers = nn.TransformerEncoderLayer(\n",
    "            d_model=hidden_dim,\n",
    "            nhead=num_heads,\n",
    "            dim_feedforward=hidden_dim * 4,\n",
    "            batch_first=True\n",
    "        )\n",
    "        self.transformer_encoder = nn.TransformerEncoder(encoder_layers, num_layers)\n",
    "\n",
    "        self.output_layer = nn.Linear(hidden_dim, patch_len)\n",
    "\n",
    "    def forward(self, x):\n",
    "        if self.input_dim > 1:\n",
    "            raise NotImplementedError(\"Simplified PatchTST only supports input_dim=1 for patching example.\")\n",
    "\n",
    "        x_univariate = x.squeeze(-1)\n",
    "\n",
    "        patches = []\n",
    "        for i in range(0, x_univariate.shape[1] - self.patch_len + 1, self.stride):\n",
    "            patches.append(x_univariate[:, i : i + self.patch_len])\n",
    "        \n",
    "        patches = torch.stack(patches, dim=1)\n",
    "\n",
    "        embedded_patches = self.patch_embedding(patches)\n",
    "\n",
    "        encoded_output = self.transformer_encoder(embedded_patches)\n",
    "\n",
    "        reconstructed_patches = self.output_layer(encoded_output)\n",
    "\n",
    "        return reconstructed_patches"
   ]
  },
  {
   "cell_type": "code",
   "execution_count": null,
   "id": "9539126b",
   "metadata": {
    "lines_to_next_cell": 1
   },
   "outputs": [],
   "source": [
    "# --- Data Preparation for PatchTST ---\n",
    "def prepare_data_patchtst(df, features, sequence_length):\n",
    "    data = df[features].to_numpy()\n",
    "    scaler = StandardScaler()\n",
    "    data_scaled = scaler.fit_transform(data)\n",
    "\n",
    "    X = []\n",
    "    for i in range(len(data_scaled) - sequence_length):\n",
    "        X.append(data_scaled[i : i + sequence_length])\n",
    "    \n",
    "    X = np.array(X)\n",
    "    return torch.tensor(X, dtype=torch.float32), scaler"
   ]
  },
  {
   "cell_type": "code",
   "execution_count": null,
   "id": "19bfd03b",
   "metadata": {
    "lines_to_next_cell": 1
   },
   "outputs": [],
   "source": [
    "# --- Anomaly Detection Logic for PatchTST ---\n",
    "def detect_anomalies_patchtst(model, dataloader, threshold_multiplier=3):\n",
    "    model.eval()\n",
    "    reconstruction_errors = []\n",
    "    with torch.no_grad():\n",
    "        for batch_X in dataloader:\n",
    "            if isinstance(batch_X, (list, tuple)):\n",
    "                batch_X = batch_X[0]\n",
    "            \n",
    "            reconstructed_patches = model(batch_X)\n",
    "            \n",
    "            original_first_patch = batch_X[:, 0, :model.patch_len].unsqueeze(1)\n",
    "            error = torch.mean((original_first_patch - reconstructed_patches[:, 0, :].unsqueeze(1))**2, dim=[-1, -2])\n",
    "            reconstruction_errors.extend(error.cpu().numpy())\n",
    "\n",
    "    errors = np.array(reconstruction_errors)\n",
    "    threshold = np.mean(errors) + threshold_multiplier * np.std(errors)\n",
    "    anomalies = errors > threshold\n",
    "    return anomalies, errors, threshold"
   ]
  },
  {
   "cell_type": "markdown",
   "id": "50ef97f3",
   "metadata": {},
   "source": [
    "## PatchTST Execution"
   ]
  },
  {
   "cell_type": "markdown",
   "id": "340d5bb0",
   "metadata": {},
   "source": [
    "Now, let\\'s execute the PatchTST model for anomaly detection."
   ]
  },
  {
   "cell_type": "code",
   "execution_count": null,
   "id": "2c55e355",
   "metadata": {},
   "outputs": [],
   "source": [
    "print(\"\\n--- Running PatchTST Anomaly Detection ---\")\n",
    "try:\n",
    "    df_patchtst = pl.read_csv(\"/home/ubuntu/preprocessed_smart_manufacturing_data.csv\")\n",
    "    if \"timestamp\" in df_patchtst.columns and df_patchtst[\"timestamp\"].dtype != pl.Datetime:\n",
    "        df_patchtst = df_patchtst.with_columns(pl.col(\"timestamp\").str.strptime(pl.Datetime, format=\"%Y-%m-%d %H:%M:%S\"))\n",
    "\n",
    "    features_patchtst = [\"temperature\"]\n",
    "    print(f\"Preparing data for PatchTST using feature: {features_patchtst[0]}...\")\n",
    "    X_tensor_patchtst, scaler_patchtst = prepare_data_patchtst(df_patchtst, features_patchtst, SEQUENCE_LENGTH)\n",
    "\n",
    "    dataset_patchtst = TensorDataset(X_tensor_patchtst)\n",
    "    dataloader_patchtst = DataLoader(dataset_patchtst, batch_size=BATCH_SIZE, shuffle=False)\n",
    "\n",
    "    input_dim_patchtst = 1\n",
    "    hidden_dim_patchtst = 64\n",
    "    num_heads_patchtst = 4\n",
    "    num_layers_patchtst = 2\n",
    "    patch_len_patchtst = 16\n",
    "    stride_patchtst = 8\n",
    "\n",
    "    print(\"Initializing PatchTST model...\")\n",
    "    model_patchtst = PatchTST(input_dim_patchtst, hidden_dim_patchtst, num_heads_patchtst, num_layers_patchtst, patch_len_patchtst, stride_patchtst)\n",
    "\n",
    "    print(\"Starting simplified PatchTST training loop...\")\n",
    "    optimizer_patchtst = torch.optim.Adam(model_patchtst.parameters(), lr=LEARNING_RATE)\n",
    "    criterion_patchtst = nn.MSELoss()\n",
    "\n",
    "    for epoch in range(EPOCHS):\n",
    "        model_patchtst.train()\n",
    "        total_loss_patchtst = 0\n",
    "        for batch_X_patchtst in dataloader_patchtst:\n",
    "            if isinstance(batch_X_patchtst, (list, tuple)):\n",
    "                batch_X_patchtst = batch_X_patchtst[0]\n",
    "\n",
    "            optimizer_patchtst.zero_grad()\n",
    "            reconstructed_patches_patchtst = model_patchtst(batch_X_patchtst)\n",
    "            \n",
    "            original_first_patch_patchtst = batch_X_patchtst[:, 0, :patch_len_patchtst].unsqueeze(1)\n",
    "            loss_patchtst = criterion_patchtst(reconstructed_patches_patchtst[:, 0, :].unsqueeze(1), original_first_patch_patchtst)\n",
    "            \n",
    "            loss_patchtst.backward()\n",
    "            optimizer_patchtst.step()\n",
    "            total_loss_patchtst += loss_patchtst.item()\n",
    "        print(f\"Epoch {epoch+1}/{EPOCHS}, Loss: {total_loss_patchtst/len(dataloader_patchtst):.4f}\")\n",
    "\n",
    "    print(\"Detecting anomalies using PatchTST...\")\n",
    "    anomalies_patchtst, errors_patchtst, threshold_patchtst = detect_anomalies_patchtst(model_patchtst, dataloader_patchtst)\n",
    "\n",
    "    anomaly_flags_full_patchtst = np.zeros(len(df_patchtst), dtype=bool)\n",
    "    anomaly_indices_patchtst = np.where(anomalies_patchtst)[0] + SEQUENCE_LENGTH -1\n",
    "    anomaly_indices_patchtst = anomaly_indices_patchtst[anomaly_indices_patchtst < len(df_patchtst)]\n",
    "    anomaly_flags_full_patchtst[anomaly_indices_patchtst] = True\n",
    "\n",
    "    df_patchtst_results = df_patchtst.with_columns(\n",
    "        pl.Series(name=\"patchtst_anomaly\", values=anomaly_flags_full_patchtst)\n",
    "    )\n",
    "\n",
    "    print(\"\\nPatchTST Anomaly Detection Results (first 10 anomalies):\")\n",
    "    print(df_patchtst_results.filter(pl.col(\"patchtst_anomaly\") == True).head(10).to_string())\n",
    "\n",
    "    df_patchtst_results.write_csv(\"/home/ubuntu/patchtst_anomaly_results.csv\")\n",
    "    print(\"PatchTST anomaly results saved to patchtst_anomaly_results.csv\")\n",
    "\n",
    "    # # PatchTST Analysis and Insights\n",
    "\n",
    "    # The PatchTST model identifies anomalies based on the reconstruction error of time series patches. A higher error indicates a greater deviation from the learned normal patterns.\n",
    "\n",
    "    # ### Visualizing PatchTST Anomalies\n",
    "\n",
    "    # Let\\'s visualize the detected anomalies on the \\'temperature\\' data.\n",
    "\n",
    "    plt.figure(figsize=(15, 6))\n",
    "    plt.plot(df_patchtst[\"timestamp\"], df_patchtst[\"temperature\"], label=\"Temperature\")\n",
    "    plt.scatter(\n",
    "        df_patchtst.filter(pl.col(\"patchtst_anomaly\") == True)[\"timestamp\"],\n",
    "        df_patchtst.filter(pl.col(\"patchtst_anomaly\") == True)[\"temperature\"],\n",
    "        color=\\'red\\', label=\\'Anomaly (PatchTST)\\', s=50, marker=\\'o\\'\n",
    "    )\n",
    "    plt.title(\"Temperature with PatchTST Detected Anomalies\")\n",
    "    plt.xlabel(\"Timestamp\")\n",
    "    plt.ylabel(\"Temperature\")\n",
    "    plt.legend()\n",
    "    plt.grid(True)\n",
    "    plt.show()\n",
    "\n",
    "    # ### Recommendations for PatchTST\n",
    "\n",
    "    # *   **Threshold Adjustment**: The current anomaly threshold is based on a simple statistical measure (mean + 3*std). This can be fine-tuned based on domain expertise and desired sensitivity/specificity.\n",
    "    # *   **Multivariate Analysis**: Extend the PatchTST implementation to handle all relevant numerical features simultaneously for a more comprehensive anomaly detection.\n",
    "    # *   **Anomaly Scoring**: Instead of just a binary flag, provide an anomaly score (e.g., the reconstruction error itself) to rank anomalies by severity."
   ]
  },
  {
   "cell_type": "code",
   "execution_count": null,
   "id": "2a1be9e8",
   "metadata": {},
   "outputs": [],
   "source": [
    "except Exception as e:\n",
    "    print(f\"An error occurred during PatchTST execution: {e}\")"
   ]
  },
  {
   "cell_type": "markdown",
   "id": "0cc3e565",
   "metadata": {},
   "source": [
    "--- Section 3: Temporal Fusion Transformer (TFT) for Anomaly Detection ---"
   ]
  },
  {
   "cell_type": "markdown",
   "id": "f3ea9adc",
   "metadata": {},
   "source": [
    "# Temporal Fusion Transformer (TFT) for Anomaly Detection"
   ]
  },
  {
   "cell_type": "markdown",
   "id": "9cbdc2d4",
   "metadata": {},
   "source": [
    "The Temporal Fusion Transformer (TFT) is designed for high-performance multi-horizon forecasting. For anomaly detection, we can leverage its forecasting capabilities: if the actual value deviates significantly from the predicted value, it can be flagged as an anomaly."
   ]
  },
  {
   "cell_type": "markdown",
   "id": "0113ea72",
   "metadata": {},
   "source": [
    "## Model Configuration and Data Preparation"
   ]
  },
  {
   "cell_type": "markdown",
   "id": "fb2685e8",
   "metadata": {},
   "source": [
    "Define model parameters and prepare the data for TFT. We will use multiple numerical features for this model."
   ]
  },
  {
   "cell_type": "code",
   "execution_count": null,
   "id": "b3c12656",
   "metadata": {
    "lines_to_next_cell": 1
   },
   "outputs": [],
   "source": [
    "# --- Simplified TFT Model Definition ---\n",
    "class SimplifiedTFT(nn.Module):\n",
    "    def __init__(self, input_dim, hidden_dim, output_dim, num_heads, num_layers):\n",
    "        super().__init__()\n",
    "        self.input_dim = input_dim\n",
    "        self.hidden_dim = hidden_dim\n",
    "        self.output_dim = output_dim\n",
    "\n",
    "        self.input_embedding = nn.Linear(input_dim, hidden_dim)\n",
    "\n",
    "        encoder_layers = nn.TransformerEncoderLayer(\n",
    "            d_model=hidden_dim,\n",
    "            nhead=num_heads,\n",
    "            dim_feedforward=hidden_dim * 4,\n",
    "            batch_first=True\n",
    "        )\n",
    "        self.transformer_encoder = nn.TransformerEncoder(encoder_layers, num_layers)\n",
    "\n",
    "        self.decoder = nn.Linear(hidden_dim, output_dim)\n",
    "\n",
    "    def forward(self, x):\n",
    "        embedded_input = self.input_embedding(x)\n",
    "\n",
    "        encoded_output = self.transformer_encoder(embedded_input)\n",
    "\n",
    "        last_hidden_state = encoded_output[:, -1, :]\n",
    "\n",
    "        predictions = self.decoder(last_hidden_state)\n",
    "\n",
    "        return predictions"
   ]
  },
  {
   "cell_type": "code",
   "execution_count": null,
   "id": "7bc9da1e",
   "metadata": {
    "lines_to_next_cell": 1
   },
   "outputs": [],
   "source": [
    "# --- Data Preparation for TFT ---\n",
    "def prepare_data_tft(df, features, sequence_length, prediction_length):\n",
    "    data = df[features].to_numpy()\n",
    "    scaler = StandardScaler()\n",
    "    data_scaled = scaler.fit_transform(data)\n",
    "\n",
    "    X, y = [], []\n",
    "    for i in range(len(data_scaled) - sequence_length - prediction_length + 1):\n",
    "        X.append(data_scaled[i : i + sequence_length])\n",
    "        y.append(data_scaled[i + sequence_length : i + sequence_length + prediction_length, 0]) # Predict first feature\n",
    "    \n",
    "    X = np.array(X)\n",
    "    y = np.array(y)\n",
    "    return torch.tensor(X, dtype=torch.float32), torch.tensor(y, dtype=torch.float32), scaler"
   ]
  },
  {
   "cell_type": "code",
   "execution_count": null,
   "id": "8366d9f1",
   "metadata": {
    "lines_to_next_cell": 1
   },
   "outputs": [],
   "source": [
    "# --- Anomaly Detection Logic for TFT ---\n",
    "def detect_anomalies_tft(model, dataloader, scaler, original_df, features, threshold_multiplier=3):\n",
    "    model.eval()\n",
    "    prediction_errors = []\n",
    "    original_values = []\n",
    "    \n",
    "    with torch.no_grad():\n",
    "        for i, (batch_X, batch_y) in enumerate(dataloader):\n",
    "            predictions = model(batch_X)\n",
    "            \n",
    "            error = torch.abs(predictions[:, 0] - batch_y[:, 0])\n",
    "            prediction_errors.extend(error.cpu().numpy())\n",
    "            original_values.extend(batch_y[:, 0].cpu().numpy())\n",
    "\n",
    "    errors = np.array(prediction_errors)\n",
    "    threshold = np.mean(errors) + threshold_multiplier * np.std(errors)\n",
    "    anomalies = errors > threshold\n",
    "\n",
    "    anomaly_flags_full = np.zeros(len(original_df), dtype=bool)\n",
    "    start_prediction_indices = np.arange(len(original_df) - SEQUENCE_LENGTH - PREDICTION_LENGTH + 1) + SEQUENCE_LENGTH\n",
    "    \n",
    "    valid_anomaly_indices = start_prediction_indices[anomalies]\n",
    "    valid_anomaly_indices = valid_anomaly_indices[valid_anomaly_indices < len(original_df)]\n",
    "    \n",
    "    anomaly_flags_full[valid_anomaly_indices] = True\n",
    "\n",
    "    return anomaly_flags_full, errors, threshold"
   ]
  },
  {
   "cell_type": "markdown",
   "id": "3ae9a42e",
   "metadata": {},
   "source": [
    "## TFT Execution"
   ]
  },
  {
   "cell_type": "markdown",
   "id": "49192177",
   "metadata": {},
   "source": [
    "Now, let\\'s execute the TFT model for anomaly detection."
   ]
  },
  {
   "cell_type": "code",
   "execution_count": null,
   "id": "029d63bd",
   "metadata": {},
   "outputs": [],
   "source": [
    "print(\"\\n--- Running TFT Anomaly Detection ---\")\n",
    "try:\n",
    "    df_tft = pl.read_csv(\"/home/ubuntu/preprocessed_smart_manufacturing_data.csv\")\n",
    "    if \"timestamp\" in df_tft.columns and df_tft[\"timestamp\"].dtype != pl.Datetime:\n",
    "        df_tft = df_tft.with_columns(pl.col(\"timestamp\").str.strptime(pl.Datetime, format=\"%Y-%m-%d %H:%M:%S\"))\n",
    "\n",
    "    features_tft = [\n",
    "        \"temperature\",\n",
    "        \"vibration\",\n",
    "        \"humidity\",\n",
    "        \"pressure\",\n",
    "        \"energy_consumption\"\n",
    "    ]\n",
    "\n",
    "    print(f\"Preparing data for TFT using features: {features_tft}...\")\n",
    "    X_tensor_tft, y_tensor_tft, scaler_tft = prepare_data_tft(df_tft, features_tft, SEQUENCE_LENGTH, PREDICTION_LENGTH)\n",
    "\n",
    "    dataset_tft = TensorDataset(X_tensor_tft, y_tensor_tft)\n",
    "    dataloader_tft = DataLoader(dataset_tft, batch_size=BATCH_SIZE, shuffle=False)\n",
    "\n",
    "    input_dim_tft = len(features_tft)\n",
    "    hidden_dim_tft = 64\n",
    "    output_dim_tft = PREDICTION_LENGTH\n",
    "    num_heads_tft = 4\n",
    "    num_layers_tft = 2\n",
    "\n",
    "    print(\"Initializing SimplifiedTFT model...\")\n",
    "    model_tft = SimplifiedTFT(input_dim_tft, hidden_dim_tft, output_dim_tft, num_heads_tft, num_layers_tft)\n",
    "\n",
    "    print(\"Starting TFT training loop...\")\n",
    "    optimizer_tft = torch.optim.Adam(model_tft.parameters(), lr=LEARNING_RATE)\n",
    "    criterion_tft = nn.MSELoss()\n",
    "\n",
    "    for epoch in range(EPOCHS):\n",
    "        model_tft.train()\n",
    "        total_loss_tft = 0\n",
    "        for batch_X_tft, batch_y_tft in dataloader_tft:\n",
    "            optimizer_tft.zero_grad()\n",
    "            predictions_tft = model_tft(batch_X_tft)\n",
    "            loss_tft = criterion_tft(predictions_tft, batch_y_tft)\n",
    "            loss_tft.backward()\n",
    "            optimizer_tft.step()\n",
    "            total_loss_tft += loss_tft.item()\n",
    "        print(f\"Epoch {epoch+1}/{EPOCHS}, Loss: {total_loss_tft/len(dataloader_tft):.4f}\")\n",
    "\n",
    "    print(\"Detecting anomalies using TFT...\")\n",
    "    anomalies_tft, errors_tft, threshold_tft = detect_anomalies_tft(model_tft, dataloader_tft, scaler_tft, df_tft, features_tft)\n",
    "\n",
    "    df_tft_results = df_tft.with_columns(\n",
    "        pl.Series(name=\"tft_anomaly\", values=anomalies_tft)\n",
    "    )\n",
    "\n",
    "    print(\"\\nTFT Anomaly Detection Results (first 10 anomalies):\")\n",
    "    print(df_tft_results.filter(pl.col(\"tft_anomaly\") == True).head(10).to_string())\n",
    "\n",
    "    df_tft_results.write_csv(\"/home/ubuntu/tft_anomaly_results.csv\")\n",
    "    print(\"TFT anomaly results saved to tft_anomaly_results.csv\")\n",
    "\n",
    "    # # TFT Analysis and Insights\n",
    "\n",
    "    # The TFT model identifies anomalies by comparing its predictions with actual values. Large prediction errors indicate potential anomalies.\n",
    "\n",
    "    # ### Visualizing TFT Anomalies\n",
    "\n",
    "    # Let\\'s visualize the detected anomalies on the \\'temperature\\' data, as it\\'s often a key indicator.\n",
    "\n",
    "    plt.figure(figsize=(15, 6))\n",
    "    plt.plot(df_tft[\"timestamp\"], df_tft[\"temperature\"], label=\"Temperature\")\n",
    "    plt.scatter(\n",
    "        df_tft.filter(pl.col(\"tft_anomaly\") == True)[\"timestamp\"],\n",
    "        df_tft.filter(pl.col(\"tft_anomaly\") == True)[\"temperature\"],\n",
    "        color=\\'red\\', label=\\'Anomaly (TFT)\\', s=50, marker=\\'o\\'\n",
    "    )\n",
    "    plt.title(\"Temperature with TFT Detected Anomalies\")\n",
    "    plt.xlabel(\"Timestamp\")\n",
    "    plt.ylabel(\"Temperature\")\n",
    "    plt.legend()\n",
    "    plt.grid(True)\n",
    "    plt.show()\n",
    "\n",
    "    # ### Recommendations for TFT\n",
    "\n",
    "    # *   **Feature Engineering**: Incorporate more domain-specific features or external factors that might influence machine behavior.\n",
    "    # *   **Hyperparameter Tuning**: Optimize the model\\'s hyperparameters (e.g., hidden_dim, num_heads, learning_rate) for better performance.\n",
    "    # *   **Quantile Predictions**: A full TFT provides quantile predictions, which can be used to define dynamic anomaly thresholds based on prediction intervals."
   ]
  },
  {
   "cell_type": "code",
   "execution_count": null,
   "id": "f5b3a6ff",
   "metadata": {
    "lines_to_next_cell": 2
   },
   "outputs": [],
   "source": [
    "except Exception as e:\n",
    "    print(f\"An error occurred during TFT execution: {e}\")"
   ]
  },
  {
   "cell_type": "markdown",
   "id": "92291172",
   "metadata": {},
   "source": [
    "--- Section 4: Comparative Analysis and Overall Recommendations ---"
   ]
  },
  {
   "cell_type": "markdown",
   "id": "180ff6ec",
   "metadata": {},
   "source": [
    "# Comparative Analysis and Overall Recommendations"
   ]
  },
  {
   "cell_type": "markdown",
   "id": "b6ebfea1",
   "metadata": {},
   "source": [
    "Both PatchTST and TFT offer unique strengths for anomaly detection in time series data. PatchTST excels at capturing local patterns through its patching mechanism, while TFT provides robust forecasting capabilities that can be leveraged for anomaly detection."
   ]
  },
  {
   "cell_type": "markdown",
   "id": "9c473328",
   "metadata": {},
   "source": [
    "## Key Observations"
   ]
  },
  {
   "cell_type": "markdown",
   "id": "4f4f0526",
   "metadata": {},
   "source": [
    "*   **Anomaly Overlap**: Observe if both models detect similar anomalies. Overlapping detections might indicate more significant or persistent issues.\n",
    "*   **Model Strengths**: PatchTST might be more sensitive to sudden, localized changes, while TFT might be better at detecting anomalies that manifest as deviations from expected future trends."
   ]
  },
  {
   "cell_type": "markdown",
   "id": "b97bb500",
   "metadata": {},
   "source": [
    "## Overall Recommendations"
   ]
  },
  {
   "cell_type": "markdown",
   "id": "997f4680",
   "metadata": {},
   "source": [
    "*   **Combine Models**: Consider an ensemble approach where anomalies detected by either model (or both) are flagged. This can improve the robustness of the anomaly detection system.\n",
    "*   **Domain Expertise**: Always validate detected anomalies with domain experts. Their insights are crucial for understanding the root causes and significance of anomalies.\n",
    "*   **Alerting System**: Implement an alerting system that triggers notifications when anomalies are detected, allowing for timely intervention.\n",
    "*   **Root Cause Analysis**: For persistent or critical anomalies, conduct a deeper root cause analysis to address the underlying issues in the manufacturing process.\n",
    "*   **Continuous Monitoring and Retraining**: Anomaly detection models should be continuously monitored for performance and retrained periodically with new data to adapt to evolving normal operating conditions."
   ]
  },
  {
   "cell_type": "markdown",
   "id": "3a2a735a",
   "metadata": {},
   "source": [
    "This concludes the anomaly detection analysis. The provided code and insights should serve as a strong foundation for building a robust smart manufacturing monitoring system."
   ]
  },
  {
   "cell_type": "code",
   "execution_count": null,
   "id": "890899da",
   "metadata": {},
   "outputs": [],
   "source": []
  }
 ],
 "metadata": {
  "jupytext": {
   "cell_metadata_filter": "-all",
   "main_language": "python",
   "notebook_metadata_filter": "-all"
  },
  "language_info": {
   "name": "python"
  }
 },
 "nbformat": 4,
 "nbformat_minor": 5
}
